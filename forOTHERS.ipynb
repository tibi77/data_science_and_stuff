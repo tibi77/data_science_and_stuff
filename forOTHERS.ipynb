{
  "nbformat": 4,
  "nbformat_minor": 0,
  "metadata": {
    "colab": {
      "name": "forOTHERS.ipynb",
      "version": "0.3.2",
      "provenance": [],
      "include_colab_link": true
    },
    "kernelspec": {
      "name": "python2",
      "display_name": "Python 2"
    }
  },
  "cells": [
    {
      "cell_type": "markdown",
      "metadata": {
        "id": "view-in-github",
        "colab_type": "text"
      },
      "source": [
        "[View in Colaboratory](https://colab.research.google.com/github/tibi77/data_science_and_stuff/blob/master/forOTHERS.ipynb)"
      ]
    },
    {
      "metadata": {
        "id": "3uySiRK3ro2W",
        "colab_type": "text"
      },
      "cell_type": "markdown",
      "source": [
        "Code pe care trebuie sa il rulezi ca sa te conectezi la drive"
      ]
    },
    {
      "metadata": {
        "id": "0ypxWwuor-ly",
        "colab_type": "code",
        "colab": {
          "base_uri": "https://localhost:8080/",
          "height": 136
        },
        "outputId": "792239d3-4659-480b-f24d-e6af1f05807d"
      },
      "cell_type": "code",
      "source": [
        "!apt-get install -y -qq software-properties-common python-software-properties module-init-tools\n",
        "!add-apt-repository -y ppa:alessandro-strada/ppa 2>&1 > /dev/null\n",
        "!apt-get update -qq 2>&1 > /dev/null\n",
        "!apt-get -y install -qq google-drive-ocamlfuse fuse\n",
        "from google.colab import auth\n",
        "auth.authenticate_user()\n",
        "from oauth2client.client import GoogleCredentials\n",
        "creds = GoogleCredentials.get_application_default()\n",
        "import getpass\n",
        "!google-drive-ocamlfuse -headless -id={creds.client_id} -secret={creds.client_secret} < /dev/null 2>&1 | grep URL\n",
        "vcode = getpass.getpass()\n",
        "!echo {vcode} | google-drive-ocamlfuse -headless -id={creds.client_id} -secret={creds.client_secret}"
      ],
      "execution_count": 5,
      "outputs": [
        {
          "output_type": "stream",
          "text": [
            "gpg: keybox '/tmp/tmp8rgyiz95/pubring.gpg' created\n",
            "gpg: /tmp/tmp8rgyiz95/trustdb.gpg: trustdb created\n",
            "gpg: key AD5F235DF639B041: public key \"Launchpad PPA for Alessandro Strada\" imported\n",
            "gpg: Total number processed: 1\n",
            "gpg:               imported: 1\n",
            "Warning: apt-key output should not be parsed (stdout is not a terminal)\n",
            "··········\n"
          ],
          "name": "stdout"
        }
      ]
    },
    {
      "metadata": {
        "id": "78ltJULbsm6y",
        "colab_type": "code",
        "colab": {
          "base_uri": "https://localhost:8080/",
          "height": 37
        },
        "outputId": "7769d0cf-612a-4d89-e3cf-e57f201fbe78"
      },
      "cell_type": "code",
      "source": [
        "!mkdir -p the_drive\n",
        "!google-drive-ocamlfuse the_drive\n"
      ],
      "execution_count": 13,
      "outputs": []
    },
    {
      "metadata": {
        "id": "wIRwddRwtG5L",
        "colab_type": "code",
        "colab": {
          "base_uri": "https://localhost:8080/",
          "height": 17
        },
        "outputId": "bb74fed8-617c-4760-b485-5e94606a728f"
      },
      "cell_type": "code",
      "source": [
        "import os\n",
        "os.chdir(\"the_drive\")"
      ],
      "execution_count": 14,
      "outputs": []
    }
  ]
}