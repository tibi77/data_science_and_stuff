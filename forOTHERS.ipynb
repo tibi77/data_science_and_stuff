{
  "nbformat": 4,
  "nbformat_minor": 0,
  "metadata": {
    "colab": {
      "name": "forOTHERS.ipynb",
      "version": "0.3.2",
      "provenance": [],
      "include_colab_link": true
    },
    "kernelspec": {
      "name": "python2",
      "display_name": "Python 2"
    }
  },
  "cells": [
    {
      "cell_type": "markdown",
      "metadata": {
        "id": "view-in-github",
        "colab_type": "text"
      },
      "source": [
        "[View in Colaboratory](https://colab.research.google.com/github/tibi77/data_science_and_stuff/blob/master/forOTHERS.ipynb)"
      ]
    },
    {
      "metadata": {
        "id": "3uySiRK3ro2W",
        "colab_type": "text"
      },
      "cell_type": "markdown",
      "source": [
        "Aici este o minunatie de cod pe care trebuie sa il rulezi de fiecare data cand vrei sa te conectezi la un drive."
      ]
    },
    {
      "metadata": {
        "id": "0ypxWwuor-ly",
        "colab_type": "code",
        "colab": {
          "base_uri": "https://localhost:8080/",
          "height": 136
        },
        "outputId": "792239d3-4659-480b-f24d-e6af1f05807d"
      },
      "cell_type": "code",
      "source": [
        "!apt-get install -y -qq software-properties-common python-software-properties module-init-tools\n",
        "!add-apt-repository -y ppa:alessandro-strada/ppa 2>&1 > /dev/null\n",
        "!apt-get update -qq 2>&1 > /dev/null\n",
        "!apt-get -y install -qq google-drive-ocamlfuse fuse\n",
        "from google.colab import auth\n",
        "auth.authenticate_user()\n",
        "from oauth2client.client import GoogleCredentials\n",
        "creds = GoogleCredentials.get_application_default()\n",
        "import getpass\n",
        "!google-drive-ocamlfuse -headless -id={creds.client_id} -secret={creds.client_secret} < /dev/null 2>&1 | grep URL\n",
        "vcode = getpass.getpass()\n",
        "!echo {vcode} | google-drive-ocamlfuse -headless -id={creds.client_id} -secret={creds.client_secret}"
      ],
      "execution_count": 5,
      "outputs": [
        {
          "output_type": "stream",
          "text": [
            "gpg: keybox '/tmp/tmp8rgyiz95/pubring.gpg' created\n",
            "gpg: /tmp/tmp8rgyiz95/trustdb.gpg: trustdb created\n",
            "gpg: key AD5F235DF639B041: public key \"Launchpad PPA for Alessandro Strada\" imported\n",
            "gpg: Total number processed: 1\n",
            "gpg:               imported: 1\n",
            "Warning: apt-key output should not be parsed (stdout is not a terminal)\n",
            "··········\n"
          ],
          "name": "stdout"
        }
      ]
    },
    {
      "metadata": {
        "id": "78ltJULbsm6y",
        "colab_type": "code",
        "colab": {}
      },
      "cell_type": "code",
      "source": [
        "!mkdir -p the_drive\n",
        "!google-drive-ocamlfuse the_drive\n"
      ],
      "execution_count": 0,
      "outputs": []
    },
    {
      "metadata": {
        "id": "huVP6pI2sxsx",
        "colab_type": "code",
        "colab": {
          "base_uri": "https://localhost:8080/",
          "height": 2380
        },
        "outputId": "269adf5e-20da-417c-ec42-c9f70d360cdb"
      },
      "cell_type": "code",
      "source": [
        "!ls -l *"
      ],
      "execution_count": 11,
      "outputs": [
        {
          "output_type": "stream",
          "text": [
            "ls: cannot access 'drive': Input/output error\r\n",
            "aaaa:\n",
            "total 841463\n",
            "-rw-r--r-- 1 root root    591150 Jul 30  2017 272\n",
            "drwxr-xr-x 2 root root      4096 Jul  9 08:07 app\n",
            "-rw-r--r-- 1 root root    138325 Apr 26 09:31 arhive.zip\n",
            "-r--r--r-- 1 root root     14331 Nov  9  2015 ATD Foaie de prezenta.ods\n",
            "drwxr-xr-x 2 root root      4096 Jul  6  2013 backup\n",
            "drwxr-xr-x 2 root root      4096 Jul  9 08:05 Colab Notebooks\n",
            "drwxr-xr-x 2 root root      4096 Jul  9 09:12 data\n",
            "-rw-r--r-- 1 root root 214742257 Jun 20 13:50 datasets.tar.gz\n",
            "-rw-r--r-- 1 root root  13984421 Jul 31  2017 de_trimis.tar.gz\n",
            "-rw-r--r-- 1 root root  72398634 Jan 11 19:30 Digital Design-20180110T212914Z-001.zip\n",
            "-r--r--r-- 1 root root     12841 Mar  4 00:05 Document fără titlu.odt\n",
            "-r--r--r-- 1 root root     11528 Jan 16 08:19 Document fără titlu.odt (0ece3a0a)\n",
            "-r--r--r-- 1 root root     10077 Jan 18 11:04 Document fără titlu.odt (363f19f3)\n",
            "-r--r--r-- 1 root root     12067 Jan 16 11:28 Document fără titlu.odt (53c061ea)\n",
            "-r--r--r-- 1 root root     13013 Dec  9  2017 Document fără titlu.odt (6a2b6446)\n",
            "-r--r--r-- 1 root root      8961 Dec  9  2017 Document fără titlu.odt (a2c98d97)\n",
            "-r--r--r-- 1 root root     13618 Jan 16 08:48 Document fără titlu.odt (d5d981d0)\n",
            "-rw-r--r-- 1 root root   2296397 Mar 30  2016 Document from tibi\n",
            "drwxr-xr-x 2 root root      4096 Oct 17  2015 dsd\n",
            "-rw-r--r-- 1 root root    286947 Mar  8  2016 DSD 2 2016_Constanta CN Mircea cel Batran-1.pdf\n",
            "-rw-r--r-- 1 root root   2129188 Sep 20  2017 Effective Java - Second Edition.pdf\n",
            "-rw-r--r-- 1 root root    275140 May 15  2015 Fathers and Children by Ivan Sergeevich Turgenev.epub\n",
            "drwxr-xr-x 2 root root      4096 Dec 26  2015 germania\n",
            "-r--r--r-- 1 root root     21414 Feb 20  2016 Google Keep Document.odt\n",
            "drwxr-xr-x 2 root root      4096 Mar 21 21:06 gsoc\n",
            "-rw-r--r-- 1 root root 132960755 Jul  9 08:49 household_power_consumption.txt\n",
            "-rw-r--r-- 1 root root   9254559 Aug  5  2017 Introduction-to-algorithm-3rdEdition.pdf\n",
            "-rw-r--r-- 1 root root   2803514 Nov  9  2017 IOCLA - Capitol 04 - Arhitectura x86.pdf\n",
            "-rw-r--r-- 1 root root    712298 Nov  9  2017 IOCLA - Capitol 05 - Moduri de adresare.pdf\n",
            "-rw-r--r-- 1 root root   1060515 Nov  9  2017 IOCLA - Capitol 06 - Setul de instructiuni.pdf\n",
            "-rw-r--r-- 1 root root    114218 Oct 13  2017 Lepadatu_Tiberiu_Andrei.pdf\n",
            "-rw-r--r-- 1 root root     29696 Sep 15  2017 LepadatuTiberiuResume.doc\n",
            "-r--r--r-- 1 root root     87834 May 28 15:46 LepadatuTiberiuResume.doc - Lepadatu Tiberiu Andrei.pdf\n",
            "-r--r--r-- 1 root root     25526 Mar 11 08:02 LepadatuTiberiuResume.doc.odt\n",
            "-rw-r--r-- 1 root root  29463023 Feb 15 14:35 LPIC Books.zip\n",
            "-r--r--r-- 1 root root     21186 Jan 18 08:57 Mail AA tema.odt\n",
            "-rw-r--r-- 1 root root  88325325 Aug 31  2017 MN (1).zip\n",
            "-r--r--r-- 1 root root     78521 Apr 18  2017 MODEL SUBIECTE PARTIAL (1).odt\n",
            "-rw-r--r-- 1 root root   1461405 Dec 27  2016 New Doc 10.pdf\n",
            "-rw-r--r-- 1 root root  32691096 Aug  5  2017 Peter van der Linden Expert C Programming Deep C Secrets.pdf\n",
            "-r--r--r-- 1 root root    463653 Jun 23 07:09 phishing = bad.pdf\n",
            "-r--r--r-- 1 root root   1015376 Mar  4 04:22 prezentare.pdf\n",
            "drwxr-xr-x 2 root root      4096 Aug  1  2014 Progres\n",
            "drwxr-xr-x 2 root root      4096 Mar 11 20:19 resumes\n",
            "-rw-r--r-- 1 root root  23210750 Jan  7  2018 Richard Szeliski - Computer Vision, Algorithms and Applications.pdf\n",
            "-rw-r--r-- 1 root root  21298031 Aug  3  2017 Ritchie-Kernighan-The_C_Programming_Language_2_ed.pdf\n",
            "-rw-r--r-- 1 root root    389994 Sep 26  2016 Screenshot from 2016-09-26 13-39-16.png\n",
            "-rw-r--r-- 1 root root    326621 Sep 28  2016 Screenshot from 2016-09-28 14-16-53.png\n",
            "-rw-r--r-- 1 root root  99091582 Apr 11 14:08 sem2.tar.gz\n",
            "-rw-r--r-- 1 root root    742036 Mar 11  2017 slides-02.pdf\n",
            "-rw-r--r-- 1 root root      1593 May 21 06:10 sss.zip\n",
            "-r--r--r-- 1 root root     12381 Jan 19 17:40 Stimabila Doamna Stefania Budulan,.odt\n",
            "-rw-r--r-- 1 root root     12312 Oct  7  2017 tabel_attendance.docx\n",
            "-r--r--r-- 1 root root     11550 Oct  7  2017 tabel_attendance.docx.odt\n",
            "-rw-r--r-- 1 root root  51191479 Nov 23  2017 tema2POO.zip\n",
            "-rw-r--r-- 1 root root     86389 Apr 22 13:42 tema.zip\n",
            "-rw-r--r-- 1 root root  15231115 Aug  5  2017 textbook.pdf\n",
            "-rw-r--r-- 1 root root   2347873 Aug  5  2017 The-C-puzzle-book-Prentice-Hall-software-series.pdf\n",
            "-rw-r--r-- 1 root root     60787 May 16  2016 trigonom.pdf\n",
            "-rw-r--r-- 1 root root  40018628 Jan 19 09:47 ts.zip\n",
            "-r--r--r-- 1 root root     17180 Mar  6  2016 Untitled document.odt\n",
            "-r--r--r-- 1 root root      8513 Oct 29  2015 Untitled document.odt (02cd4c7c)\n",
            "-r--r--r-- 1 root root     19041 Nov 10  2015 Vortrag 2.odt\n",
            "\n",
            "ceva:\n",
            "total 841463\n",
            "-rw-r--r-- 1 root root    591150 Jul 30  2017 272\n",
            "drwxr-xr-x 2 root root      4096 Jul  9 08:07 app\n",
            "-rw-r--r-- 1 root root    138325 Apr 26 09:31 arhive.zip\n",
            "-r--r--r-- 1 root root     14331 Nov  9  2015 ATD Foaie de prezenta.ods\n",
            "drwxr-xr-x 2 root root      4096 Jul  6  2013 backup\n",
            "drwxr-xr-x 2 root root      4096 Jul  9 08:05 Colab Notebooks\n",
            "drwxr-xr-x 2 root root      4096 Jul  9 09:12 data\n",
            "-rw-r--r-- 1 root root 214742257 Jun 20 13:50 datasets.tar.gz\n",
            "-rw-r--r-- 1 root root  13984421 Jul 31  2017 de_trimis.tar.gz\n",
            "-rw-r--r-- 1 root root  72398634 Jan 11 19:30 Digital Design-20180110T212914Z-001.zip\n",
            "-r--r--r-- 1 root root     12841 Mar  4 00:05 Document fără titlu.odt\n",
            "-r--r--r-- 1 root root     11528 Jan 16 08:19 Document fără titlu.odt (0ece3a0a)\n",
            "-r--r--r-- 1 root root     10077 Jan 18 11:04 Document fără titlu.odt (363f19f3)\n",
            "-r--r--r-- 1 root root     12067 Jan 16 11:28 Document fără titlu.odt (53c061ea)\n",
            "-r--r--r-- 1 root root     13013 Dec  9  2017 Document fără titlu.odt (6a2b6446)\n",
            "-r--r--r-- 1 root root      8961 Dec  9  2017 Document fără titlu.odt (a2c98d97)\n",
            "-r--r--r-- 1 root root     13618 Jan 16 08:48 Document fără titlu.odt (d5d981d0)\n",
            "-rw-r--r-- 1 root root   2296397 Mar 30  2016 Document from tibi\n",
            "drwxr-xr-x 2 root root      4096 Oct 17  2015 dsd\n",
            "-rw-r--r-- 1 root root    286947 Mar  8  2016 DSD 2 2016_Constanta CN Mircea cel Batran-1.pdf\n",
            "-rw-r--r-- 1 root root   2129188 Sep 20  2017 Effective Java - Second Edition.pdf\n",
            "-rw-r--r-- 1 root root    275140 May 15  2015 Fathers and Children by Ivan Sergeevich Turgenev.epub\n",
            "drwxr-xr-x 2 root root      4096 Dec 26  2015 germania\n",
            "-r--r--r-- 1 root root     21414 Feb 20  2016 Google Keep Document.odt\n",
            "drwxr-xr-x 2 root root      4096 Mar 21 21:06 gsoc\n",
            "-rw-r--r-- 1 root root 132960755 Jul  9 08:49 household_power_consumption.txt\n",
            "-rw-r--r-- 1 root root   9254559 Aug  5  2017 Introduction-to-algorithm-3rdEdition.pdf\n",
            "-rw-r--r-- 1 root root   2803514 Nov  9  2017 IOCLA - Capitol 04 - Arhitectura x86.pdf\n",
            "-rw-r--r-- 1 root root    712298 Nov  9  2017 IOCLA - Capitol 05 - Moduri de adresare.pdf\n",
            "-rw-r--r-- 1 root root   1060515 Nov  9  2017 IOCLA - Capitol 06 - Setul de instructiuni.pdf\n",
            "-rw-r--r-- 1 root root    114218 Oct 13  2017 Lepadatu_Tiberiu_Andrei.pdf\n",
            "-rw-r--r-- 1 root root     29696 Sep 15  2017 LepadatuTiberiuResume.doc\n",
            "-r--r--r-- 1 root root     87834 May 28 15:46 LepadatuTiberiuResume.doc - Lepadatu Tiberiu Andrei.pdf\n",
            "-r--r--r-- 1 root root     25526 Mar 11 08:02 LepadatuTiberiuResume.doc.odt\n",
            "-rw-r--r-- 1 root root  29463023 Feb 15 14:35 LPIC Books.zip\n",
            "-r--r--r-- 1 root root     21186 Jan 18 08:57 Mail AA tema.odt\n",
            "-rw-r--r-- 1 root root  88325325 Aug 31  2017 MN (1).zip\n",
            "-r--r--r-- 1 root root     78521 Apr 18  2017 MODEL SUBIECTE PARTIAL (1).odt\n",
            "-rw-r--r-- 1 root root   1461405 Dec 27  2016 New Doc 10.pdf\n",
            "-rw-r--r-- 1 root root  32691096 Aug  5  2017 Peter van der Linden Expert C Programming Deep C Secrets.pdf\n",
            "-r--r--r-- 1 root root    463653 Jun 23 07:09 phishing = bad.pdf\n",
            "-r--r--r-- 1 root root   1015376 Mar  4 04:22 prezentare.pdf\n",
            "drwxr-xr-x 2 root root      4096 Aug  1  2014 Progres\n",
            "drwxr-xr-x 2 root root      4096 Mar 11 20:19 resumes\n",
            "-rw-r--r-- 1 root root  23210750 Jan  7  2018 Richard Szeliski - Computer Vision, Algorithms and Applications.pdf\n",
            "-rw-r--r-- 1 root root  21298031 Aug  3  2017 Ritchie-Kernighan-The_C_Programming_Language_2_ed.pdf\n",
            "-rw-r--r-- 1 root root    389994 Sep 26  2016 Screenshot from 2016-09-26 13-39-16.png\n",
            "-rw-r--r-- 1 root root    326621 Sep 28  2016 Screenshot from 2016-09-28 14-16-53.png\n",
            "-rw-r--r-- 1 root root  99091582 Apr 11 14:08 sem2.tar.gz\n",
            "-rw-r--r-- 1 root root    742036 Mar 11  2017 slides-02.pdf\n",
            "-rw-r--r-- 1 root root      1593 May 21 06:10 sss.zip\n",
            "-r--r--r-- 1 root root     12381 Jan 19 17:40 Stimabila Doamna Stefania Budulan,.odt\n",
            "-rw-r--r-- 1 root root     12312 Oct  7  2017 tabel_attendance.docx\n",
            "-r--r--r-- 1 root root     11550 Oct  7  2017 tabel_attendance.docx.odt\n",
            "-rw-r--r-- 1 root root  51191479 Nov 23  2017 tema2POO.zip\n",
            "-rw-r--r-- 1 root root     86389 Apr 22 13:42 tema.zip\n",
            "-rw-r--r-- 1 root root  15231115 Aug  5  2017 textbook.pdf\n",
            "-rw-r--r-- 1 root root   2347873 Aug  5  2017 The-C-puzzle-book-Prentice-Hall-software-series.pdf\n",
            "-rw-r--r-- 1 root root     60787 May 16  2016 trigonom.pdf\n",
            "-rw-r--r-- 1 root root  40018628 Jan 19 09:47 ts.zip\n",
            "-r--r--r-- 1 root root     17180 Mar  6  2016 Untitled document.odt\n",
            "-r--r--r-- 1 root root      8513 Oct 29  2015 Untitled document.odt (02cd4c7c)\n",
            "-r--r--r-- 1 root root     19041 Nov 10  2015 Vortrag 2.odt\n",
            "\n",
            "ceva1:\n",
            "total 0\n",
            "\n",
            "datalab:\n",
            "total 4\n",
            "-rw-r--r-- 1 root root 2192 Jul 10 08:43 adc.json\n"
          ],
          "name": "stdout"
        }
      ]
    },
    {
      "metadata": {
        "id": "wIRwddRwtG5L",
        "colab_type": "code",
        "colab": {}
      },
      "cell_type": "code",
      "source": [
        "import os\n",
        "os.chdir(\"the_drive\")"
      ],
      "execution_count": 0,
      "outputs": []
    },
    {
      "metadata": {
        "id": "eb1C7jUItTWr",
        "colab_type": "code",
        "colab": {
          "base_uri": "https://localhost:8080/",
          "height": 1088
        },
        "outputId": "725132f2-f943-4fb6-8f0e-94237cf16132"
      },
      "cell_type": "code",
      "source": [
        "!ls"
      ],
      "execution_count": 15,
      "outputs": [
        {
          "output_type": "stream",
          "text": [
            "272\r\n",
            "app\r\n",
            "arhive.zip\r\n",
            "ATD Foaie de prezenta.ods\r\n",
            "backup\r\n",
            "Colab Notebooks\r\n",
            "data\r\n",
            "datasets.tar.gz\r\n",
            "de_trimis.tar.gz\r\n",
            "Digital Design-20180110T212914Z-001.zip\r\n",
            "Document fără titlu.odt\r\n",
            "Document fără titlu.odt (0ece3a0a)\r\n",
            "Document fără titlu.odt (363f19f3)\r\n",
            "Document fără titlu.odt (53c061ea)\r\n",
            "Document fără titlu.odt (6a2b6446)\r\n",
            "Document fără titlu.odt (a2c98d97)\r\n",
            "Document fără titlu.odt (d5d981d0)\r\n",
            "Document from tibi\r\n",
            "dsd\r\n",
            "DSD 2 2016_Constanta CN Mircea cel Batran-1.pdf\r\n",
            "Effective Java - Second Edition.pdf\r\n",
            "Fathers and Children by Ivan Sergeevich Turgenev.epub\r\n",
            "germania\r\n",
            "Google Keep Document.odt\r\n",
            "gsoc\r\n",
            "household_power_consumption.txt\r\n",
            "Introduction-to-algorithm-3rdEdition.pdf\r\n",
            "IOCLA - Capitol 04 - Arhitectura x86.pdf\r\n",
            "IOCLA - Capitol 05 - Moduri de adresare.pdf\r\n",
            "IOCLA - Capitol 06 - Setul de instructiuni.pdf\r\n",
            "Lepadatu_Tiberiu_Andrei.pdf\r\n",
            "LepadatuTiberiuResume.doc\r\n",
            "LepadatuTiberiuResume.doc - Lepadatu Tiberiu Andrei.pdf\r\n",
            "LepadatuTiberiuResume.doc.odt\r\n",
            "LPIC Books.zip\r\n",
            "Mail AA tema.odt\r\n",
            "MN (1).zip\r\n",
            "MODEL SUBIECTE PARTIAL (1).odt\r\n",
            "New Doc 10.pdf\r\n",
            "Peter van der Linden Expert C Programming Deep C Secrets.pdf\r\n",
            "phishing = bad.pdf\r\n",
            "prezentare.pdf\r\n",
            "Progres\r\n",
            "resumes\r\n",
            "Richard Szeliski - Computer Vision, Algorithms and Applications.pdf\r\n",
            "Ritchie-Kernighan-The_C_Programming_Language_2_ed.pdf\r\n",
            "Screenshot from 2016-09-26 13-39-16.png\r\n",
            "Screenshot from 2016-09-28 14-16-53.png\r\n",
            "sem2.tar.gz\r\n",
            "slides-02.pdf\r\n",
            "sss.zip\r\n",
            "Stimabila Doamna Stefania Budulan,.odt\r\n",
            "tabel_attendance.docx\r\n",
            "tabel_attendance.docx.odt\r\n",
            "tema2POO.zip\r\n",
            "tema.zip\r\n",
            "textbook.pdf\r\n",
            "The-C-puzzle-book-Prentice-Hall-software-series.pdf\r\n",
            "trigonom.pdf\r\n",
            "ts.zip\r\n",
            "Untitled document.odt\r\n",
            "Untitled document.odt (02cd4c7c)\r\n",
            "Vortrag 2.odt\r\n"
          ],
          "name": "stdout"
        }
      ]
    }
  ]
}